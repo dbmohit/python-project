{
 "cells": [
  {
   "cell_type": "code",
   "execution_count": 1,
   "metadata": {},
   "outputs": [
    {
     "name": "stdout",
     "output_type": "stream",
     "text": [
      "no: 8\n",
      "40320\n"
     ]
    }
   ],
   "source": [
    "def fact(x):\n",
    "    total = 1\n",
    "    for i in range(1, x+1):\n",
    "        total = total * i\n",
    "    return total\n",
    "n = int(input(\"no: \"))\n",
    "print(fact(n))"
   ]
  },
  {
   "cell_type": "code",
   "execution_count": 2,
   "metadata": {},
   "outputs": [
    {
     "name": "stdout",
     "output_type": "stream",
     "text": [
      "362880\n"
     ]
    }
   ],
   "source": [
    "print(fact(9))"
   ]
  },
  {
   "cell_type": "code",
   "execution_count": 4,
   "metadata": {},
   "outputs": [
    {
     "name": "stdout",
     "output_type": "stream",
     "text": [
      "n = 8\n",
      "1.0\n",
      "8.0\n",
      "28.0\n",
      "56.0\n",
      "70.0\n",
      "56.0\n",
      "28.0\n",
      "8.0\n",
      "1.0\n"
     ]
    }
   ],
   "source": [
    "def fact(x):\n",
    "    total = 1\n",
    "    for i in range(1, x+1):\n",
    "        total = total * i\n",
    "    return total\n",
    "def prem(x, y):\n",
    "    a = fact(x)\n",
    "    b = fact(y) * fact(x-y)\n",
    "    return a/b\n",
    "n = int(input(\"n = \"))\n",
    "for r in range(0, n+1):\n",
    "    print(prem(n, r))"
   ]
  },
  {
   "cell_type": "code",
   "execution_count": null,
   "metadata": {},
   "outputs": [],
   "source": []
  },
  {
   "cell_type": "code",
   "execution_count": null,
   "metadata": {},
   "outputs": [],
   "source": []
  }
 ],
 "metadata": {
  "kernelspec": {
   "display_name": "Python 3",
   "language": "python",
   "name": "python3"
  },
  "language_info": {
   "codemirror_mode": {
    "name": "ipython",
    "version": 3
   },
   "file_extension": ".py",
   "mimetype": "text/x-python",
   "name": "python",
   "nbconvert_exporter": "python",
   "pygments_lexer": "ipython3",
   "version": "3.7.5"
  }
 },
 "nbformat": 4,
 "nbformat_minor": 2
}
